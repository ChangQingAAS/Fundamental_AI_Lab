{
 "cells": [
  {
   "cell_type": "code",
   "execution_count": 2,
   "id": "d4a8ef48",
   "metadata": {},
   "outputs": [
    {
     "name": "stderr",
     "output_type": "stream",
     "text": [
      "Using backend: pytorch\n"
     ]
    }
   ],
   "source": [
    "import dgl\n",
    "import networkx as nx\n",
    "import matplotlib\n",
    "import matplotlib.pyplot as plt\n",
    "import matplotlib.animation as animation\n",
    "import torch\n",
    "import torch.nn as nn\n",
    "import torch.nn.functional as F"
   ]
  },
  {
   "cell_type": "code",
   "execution_count": 3,
   "id": "ec27dcfa",
   "metadata": {},
   "outputs": [],
   "source": [
    "###################\n",
    "# Step 1:建立图\n",
    "###################"
   ]
  },
  {
   "cell_type": "code",
   "execution_count": 4,
   "id": "2e39eac7",
   "metadata": {},
   "outputs": [],
   "source": [
    "def build_karate_club_graph():\n",
    "    g = dgl.DGLGraph()\n",
    "    # 在图中添加34个节点，节点标记为0-33\n",
    "    g.add_nodes(34)\n",
    "    # 所有78条边作为一个元组列表\n",
    "    edge_list = [(1, 0), (2, 0), (2, 1), (3, 0), (3, 1), (3, 2), (4, 0),\n",
    "                 (5, 0), (6, 0), (6, 4), (6, 5), (7, 0), (7, 1), (7, 2),\n",
    "                 (7, 3), (8, 0), (8, 2), (9, 2), (10, 0), (10, 4), (10, 5),\n",
    "                 (11, 0), (12, 0), (12, 3), (13, 0), (13, 1), (13, 2), (13, 3),\n",
    "                 (16, 5), (16, 6), (17, 0), (17, 1), (19, 0), (19, 1), (21, 0),\n",
    "                 (21, 1), (25, 23), (25, 24), (27, 2), (27, 23), (27, 24),\n",
    "                 (28, 2), (29, 23), (29, 26), (30, 1), (30, 8), (31, 0),\n",
    "                 (31, 24), (31, 25), (31, 28), (32, 2), (32, 8), (32, 14),\n",
    "                 (32, 15), (32, 18), (32, 20), (32, 22), (32, 23), (32, 29),\n",
    "                 (32, 30), (32, 31), (33, 8), (33, 9), (33, 13), (33, 14),\n",
    "                 (33, 15), (33, 18), (33, 19), (33, 20), (33, 22), (33, 23),\n",
    "                 (33, 26), (33, 27), (33, 28), (33, 29), (33, 30), (33, 31),\n",
    "                 (33, 32)]\n",
    "    # 将边添加到两个节点列表中: src and dst\n",
    "    src, dst = tuple(zip(*edge_list))\n",
    "    g.add_edges(src, dst)\n",
    "    # DGL中的边是有方向的，令其为双向\n",
    "    g.add_edges(dst, src)\n",
    "\n",
    "    return g"
   ]
  },
  {
   "cell_type": "code",
   "execution_count": null,
   "id": "d5140c17",
   "metadata": {},
   "outputs": [],
   "source": []
  }
 ],
 "metadata": {
  "kernelspec": {
   "display_name": "Python 3",
   "language": "python",
   "name": "python3"
  },
  "language_info": {
   "codemirror_mode": {
    "name": "ipython",
    "version": 3
   },
   "file_extension": ".py",
   "mimetype": "text/x-python",
   "name": "python",
   "nbconvert_exporter": "python",
   "pygments_lexer": "ipython3",
   "version": "3.8.5"
  }
 },
 "nbformat": 4,
 "nbformat_minor": 5
}
